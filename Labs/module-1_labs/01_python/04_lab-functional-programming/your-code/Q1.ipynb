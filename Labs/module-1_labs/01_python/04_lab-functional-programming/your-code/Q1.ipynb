{
 "cells": [
  {
   "cell_type": "markdown",
   "metadata": {},
   "source": [
    "In the cell below, create a Python function that wraps your previous solution for the Bag of Words lab.\n",
    "\n",
    "Requirements:\n",
    "\n",
    "1. Your function should accept the following parameters:\n",
    "    * `docs` [REQUIRED] - array of document paths.\n",
    "    * `stop_words` [OPTIONAL] - array of stop words. The default value is an empty array.\n",
    "\n",
    "1. Your function should return a Python object that contains the following:\n",
    "    * `bag_of_words` - array of strings of normalized unique words in the corpus.\n",
    "    * `term_freq` - array of the term-frequency vectors."
   ]
  },
  {
   "cell_type": "code",
   "execution_count": 22,
   "metadata": {},
   "outputs": [
    {
     "data": {
      "text/plain": [
       "'ironhack is cool'"
      ]
     },
     "execution_count": 22,
     "metadata": {},
     "output_type": "execute_result"
    }
   ],
   "source": [
    "import re\n",
    "example_docs=['Ironhack is cool.', 'I love Ironhack.', 'I am a student at Ironhack.']\n",
    "\"\".join(re.findall(\"[a-z ]\", example_docs[0].lower()))"
   ]
  },
  {
   "cell_type": "code",
   "execution_count": 43,
   "metadata": {},
   "outputs": [],
   "source": [
    "# Import required libraries\n",
    "\n",
    "import re\n",
    "\n",
    "# Define function\n",
    "def get_bow_from_docs(docs, stop_words=[]):\n",
    "    \n",
    "    # In the function, first define the variables you will use such as `corpus`, `bag_of_words`, and `term_freq`.\n",
    "    \n",
    "    corpus = []\n",
    "    clean_corpus=[]\n",
    "    bag_of_words=[]\n",
    "    term_freq=[]\n",
    "    \n",
    "    \"\"\"\n",
    "    Loop `docs` and read the content of each doc into a string in `corpus`.\n",
    "    Remember to convert the doc content to lowercases and remove punctuation.\n",
    "    \"\"\"\n",
    "    for doc in docs:\n",
    "        reader = open(doc, \"r\")\n",
    "        corpus.append(reader.read())\n",
    "        reader.close()\n",
    "    \n",
    "    for line in corpus:\n",
    "        clean_corpus.append(\"\".join(re.findall(\"[a-z ]\", line.lower())))\n",
    "\n",
    "    \"\"\"\n",
    "    Loop `corpus`. Append the terms in each doc into the `bag_of_words` array. The terms in `bag_of_words` \n",
    "    should be unique which means before adding each term you need to check if it's already added to the array.\n",
    "    In addition, check if each term is in the `stop_words` array. Only append the term to `bag_of_words`\n",
    "    if it is not a stop word.\n",
    "    \"\"\"\n",
    "    for line in clean_corpus:\n",
    "        for word in line.split(sep=\" \"):\n",
    "            if word not in bag_of_words and word not in stop_words:\n",
    "                bag_of_words.append(word)\n",
    "    \n",
    "    \"\"\"\n",
    "    Loop `corpus` again. For each doc string, count the number of occurrences of each term in `bag_of_words`. \n",
    "    Create an array for each doc's term frequency and append it to `term_freq`.\n",
    "    \"\"\"\n",
    "\n",
    "    for line in clean_corpus:\n",
    "        word_list=line.split(sep=\" \")\n",
    "        term_freq.append([word_list.count(word) for word in bag_of_words])\n",
    "    \n",
    "    # Now return your output as an object\n",
    "    return {\n",
    "        \"bag_of_words\": bag_of_words,\n",
    "        \"term_freq\": term_freq\n",
    "    }\n",
    "    "
   ]
  },
  {
   "cell_type": "markdown",
   "metadata": {},
   "source": [
    "Test your function without stop words. You should see the output like below:\n",
    "\n",
    "```{'bag_of_words': ['ironhack', 'is', 'cool', 'i', 'love', 'am', 'a', 'student', 'at'], 'term_freq': [[1, 1, 1, 0, 0, 0, 0, 0, 0], [1, 0, 0, 1, 1, 0, 0, 0, 0], [1, 0, 0, 1, 0, 1, 1, 1, 1]]}```"
   ]
  },
  {
   "cell_type": "code",
   "execution_count": 44,
   "metadata": {},
   "outputs": [
    {
     "name": "stdout",
     "output_type": "stream",
     "text": [
      "{'bag_of_words': ['ironhack', 'is', 'cool', 'i', 'love', 'am', 'a', 'student', 'at'], 'term_freq': [[1, 1, 1, 0, 0, 0, 0, 0, 0], [1, 0, 0, 1, 1, 0, 0, 0, 0], [1, 0, 0, 1, 0, 1, 1, 1, 1]]}\n"
     ]
    }
   ],
   "source": [
    "# Define doc paths array\n",
    "docs = ['doc1.txt', 'doc2.txt', 'doc3.txt']\n",
    "\n",
    "# Obtain BoW from your function\n",
    "bow = get_bow_from_docs(docs)\n",
    "\n",
    "# Print BoW\n",
    "print(bow)"
   ]
  },
  {
   "cell_type": "markdown",
   "metadata": {},
   "source": [
    "If your attempt above is successful, nice work done!\n",
    "\n",
    "Now test your function again with the stop words. In the previous lab we defined the stop words in a large array. In this lab, we'll import the stop words from Scikit-Learn."
   ]
  },
  {
   "cell_type": "code",
   "execution_count": 45,
   "metadata": {},
   "outputs": [
    {
     "name": "stdout",
     "output_type": "stream",
     "text": [
      "frozenset({'within', 'already', 'sometimes', 'something', 'fire', 'toward', 'although', 'amount', 'whom', 'below', 'everything', 'whoever', 'them', 'those', 'up', 'hundred', 'perhaps', 'cry', 'mill', 'whether', 'top', 'am', 'go', 'much', 'per', 'or', 'part', 'two', 'which', 'three', 'please', 'last', 'during', 'how', 'cant', 'a', 'has', 'bill', 'latterly', 'beforehand', 'seem', 'however', 'so', 'detail', 'our', 'interest', 'noone', 'whatever', 'around', 'this', 'none', 'are', 'hasnt', 'if', 'hers', 'un', 'nothing', 'whereafter', 'done', 'others', 'via', 'seemed', 'third', 'because', 'least', 'but', 'against', 'ours', 'her', 'with', 'behind', 'latter', 'yours', 'there', 'of', 'should', 'one', 'somewhere', 'might', 'therefore', 'fill', 'former', 'upon', 'me', 'forty', 'do', 'out', 'nine', 'thru', 'namely', 'while', 'throughout', 'its', 'sincere', 'twelve', 'due', 'empty', 'on', 'side', 'itself', 'twenty', 'still', 'whenever', 'then', 'across', 'some', 'give', 'more', 'such', 're', 'very', 'himself', 'been', 'i', 'thick', 'whence', 'besides', 'each', 'made', 'co', 'it', 'hence', 'another', 'etc', 'now', 'cannot', 'seems', 'anyhow', 'from', 'had', 'somehow', 'both', 'nevertheless', 'into', 'among', 'further', 'thereafter', 'de', 'fifteen', 'beside', 'could', 'mostly', 'afterwards', 'describe', 'would', 'ourselves', 'any', 'yourselves', 'wherein', 'also', 'ever', 'thence', 'over', 'without', 'all', 'almost', 'my', 'was', 'less', 'bottom', 'every', 'must', 'fifty', 'many', 'whither', 'thereupon', 'can', 'once', 'themselves', 'mine', 'sometime', 'down', 'being', 'only', 'four', 'most', 'why', 'see', 'anyway', 'thus', 'he', 'yet', 'same', 'name', 'these', 'and', 'his', 'were', 'eleven', 'their', 'formerly', 'whereupon', 'in', 'alone', 'put', 'amongst', 'became', 'onto', 'hereby', 'beyond', 'enough', 'elsewhere', 'though', 'wherever', 'show', 'back', 'system', 'found', 'who', 'couldnt', 'than', 'first', 'what', 'under', 'before', 'herein', 'an', 'own', 'everywhere', 'con', 'she', 'hereupon', 'either', 'moreover', 'ltd', 'front', 'for', 'ie', 'no', 'that', 'else', 'eight', 'neither', 'rather', 'whereby', 'other', 'hereafter', 'until', 'call', 'nowhere', 'thin', 'full', 'towards', 'your', 'indeed', 'always', 'everyone', 'get', 'thereby', 'where', 'six', 'next', 'few', 'off', 'be', 'except', 'herself', 'again', 'us', 'you', 'yourself', 'whole', 'never', 'since', 'nor', 'they', 'therein', 'seeming', 'between', 'meanwhile', 'will', 'anywhere', 'may', 'at', 'as', 'serious', 'move', 'we', 'whereas', 'about', 'take', 'ten', 'too', 'become', 'becoming', 'keep', 'nobody', 'well', 'after', 'find', 'the', 'not', 'five', 'along', 'eg', 'here', 'is', 'above', 'have', 'whose', 'several', 'even', 'anyone', 'to', 'him', 'otherwise', 'myself', 'anything', 'sixty', 'when', 'together', 'amoungst', 'through', 'someone', 'becomes', 'inc', 'often', 'by'})\n"
     ]
    },
    {
     "name": "stderr",
     "output_type": "stream",
     "text": [
      "C:\\Users\\admin\\Miniconda3\\envs\\boogie_woogie\\lib\\site-packages\\sklearn\\utils\\deprecation.py:144: FutureWarning: The sklearn.feature_extraction.stop_words module is  deprecated in version 0.22 and will be removed in version 0.24. The corresponding classes / functions should instead be imported from sklearn.feature_extraction.text. Anything that cannot be imported from sklearn.feature_extraction.text is now part of the private API.\n",
      "  warnings.warn(message, FutureWarning)\n"
     ]
    }
   ],
   "source": [
    "from sklearn.feature_extraction import stop_words\n",
    "print(stop_words.ENGLISH_STOP_WORDS)"
   ]
  },
  {
   "cell_type": "markdown",
   "metadata": {},
   "source": [
    "You should have seen a large list of words that looks like:\n",
    "\n",
    "```frozenset({'across', 'mine', 'cannot', ...})```\n",
    "\n",
    "`frozenset` is a type of Python object that is immutable. In this lab you can use it just like an array without conversion."
   ]
  },
  {
   "cell_type": "markdown",
   "metadata": {},
   "source": [
    "Next, test your function with supplying `stop_words.ENGLISH_STOP_WORDS` as the second parameter."
   ]
  },
  {
   "cell_type": "code",
   "execution_count": 46,
   "metadata": {},
   "outputs": [
    {
     "name": "stdout",
     "output_type": "stream",
     "text": [
      "{'bag_of_words': ['ironhack', 'cool', 'love', 'student'], 'term_freq': [[1, 1, 0, 0], [1, 0, 1, 0], [1, 0, 0, 1]]}\n"
     ]
    }
   ],
   "source": [
    "bow = get_bow_from_docs(docs, stop_words.ENGLISH_STOP_WORDS)\n",
    "\n",
    "print(bow)"
   ]
  },
  {
   "cell_type": "markdown",
   "metadata": {},
   "source": [
    "You should have seen:\n",
    "\n",
    "```{'bag_of_words': ['ironhack', 'cool', 'love', 'student'], 'term_freq': [[1, 1, 0, 0], [1, 0, 1, 0], [1, 0, 0, 1]]}```"
   ]
  }
 ],
 "metadata": {
  "kernelspec": {
   "display_name": "Python 3",
   "language": "python",
   "name": "python3"
  },
  "language_info": {
   "codemirror_mode": {
    "name": "ipython",
    "version": 3
   },
   "file_extension": ".py",
   "mimetype": "text/x-python",
   "name": "python",
   "nbconvert_exporter": "python",
   "pygments_lexer": "ipython3",
   "version": "3.8.3"
  },
  "varInspector": {
   "cols": {
    "lenName": 16,
    "lenType": 16,
    "lenVar": 40
   },
   "kernels_config": {
    "python": {
     "delete_cmd_postfix": "",
     "delete_cmd_prefix": "del ",
     "library": "var_list.py",
     "varRefreshCmd": "print(var_dic_list())"
    },
    "r": {
     "delete_cmd_postfix": ") ",
     "delete_cmd_prefix": "rm(",
     "library": "var_list.r",
     "varRefreshCmd": "cat(var_dic_list()) "
    }
   },
   "types_to_exclude": [
    "module",
    "function",
    "builtin_function_or_method",
    "instance",
    "_Feature"
   ],
   "window_display": false
  }
 },
 "nbformat": 4,
 "nbformat_minor": 4
}
